{
  "nbformat": 4,
  "nbformat_minor": 0,
  "metadata": {
    "colab": {
      "name": "DataLoad.ipynb",
      "provenance": [],
      "collapsed_sections": []
    },
    "kernelspec": {
      "name": "python3",
      "display_name": "Python 3"
    }
  },
  "cells": [
    {
      "cell_type": "code",
      "metadata": {
        "id": "rh9yHMdA3lHO",
        "colab_type": "code",
        "colab": {}
      },
      "source": [
        "! wget -O PhysioNetChallenge2020_Training_CPSC.tar.gz \\\n",
        "https://cloudypipeline.com:9555/api/download/physionet2020training/PhysioNetChallenge2020_Training_CPSC.tar.gz/\n",
        "\n",
        "\n",
        "!tar -xf PhysioNetChallenge2020_Training_CPSC.tar.gz\n",
        "\n"
      ],
      "execution_count": 0,
      "outputs": []
    }
  ]
}