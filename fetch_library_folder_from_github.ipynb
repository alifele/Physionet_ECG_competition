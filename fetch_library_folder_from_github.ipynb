{
  "nbformat": 4,
  "nbformat_minor": 0,
  "metadata": {
    "colab": {
      "name": "fetch_library_folder_from_github.ipynb",
      "provenance": []
    },
    "kernelspec": {
      "name": "python3",
      "display_name": "Python 3"
    }
  },
  "cells": [
    {
      "cell_type": "markdown",
      "metadata": {
        "id": "TZj_0s8BCBaP",
        "colab_type": "text"
      },
      "source": [
        "# Help\n",
        "\n",
        "this notebook will run a bash script which clones a single directory from the ECG repo. the folder is the mypylib in which contains the python libraries that I have wrote to fetch data, ...\n",
        "\n",
        "\n",
        "\n",
        "Some errors that may occure:\n",
        "\n",
        "If you change the name of the repository, then you will need to rename repository address in the %%shell block"
      ]
    },
    {
      "cell_type": "code",
      "metadata": {
        "id": "n6nVXBAO96Rt",
        "colab_type": "code",
        "colab": {}
      },
      "source": [
        "sh_content = \"\"\"\n",
        "\n",
        "git init mypylib\n",
        "cd mypylib\n",
        "git remote add -f origin $1\n",
        "\n",
        "git config core.sparseCheckout true\n",
        "\n",
        "echo \"$2\" >> .git/info/sparse-checkout\n",
        "\n",
        "git pull origin master\n",
        "\n",
        "\"\"\""
      ],
      "execution_count": 0,
      "outputs": []
    },
    {
      "cell_type": "code",
      "metadata": {
        "id": "HLGxyo1w92gG",
        "colab_type": "code",
        "colab": {}
      },
      "source": [
        "f = open(\"single_fetch.sh\", 'a')\n",
        "f.write(sh_content)\n",
        "f.close()"
      ],
      "execution_count": 0,
      "outputs": []
    },
    {
      "cell_type": "code",
      "metadata": {
        "id": "WXlZ-YYM-Rn-",
        "colab_type": "code",
        "colab": {
          "base_uri": "https://localhost:8080/",
          "height": 208
        },
        "outputId": "04341a83-b88c-4d50-caee-09b86ac359e6"
      },
      "source": [
        "%%shell\n",
        "\n",
        "sudo chmod 777 single_fetch.sh\n",
        "./single_fetch.sh https://github.com/alifele/Physionet_ECG_competition.git mypylib"
      ],
      "execution_count": 3,
      "outputs": [
        {
          "output_type": "stream",
          "text": [
            "Initialized empty Git repository in /content/mypylib/.git/\n",
            "Updating origin\n",
            "remote: Enumerating objects: 36, done.\u001b[K\n",
            "remote: Counting objects: 100% (36/36), done.\u001b[K\n",
            "remote: Compressing objects: 100% (31/31), done.\u001b[K\n",
            "remote: Total 36 (delta 8), reused 22 (delta 3), pack-reused 0\u001b[K\n",
            "Unpacking objects: 100% (36/36), done.\n",
            "From https://github.com/alifele/Physionet_ECG_competition\n",
            " * [new branch]      master     -> origin/master\n",
            "From https://github.com/alifele/Physionet_ECG_competition\n",
            " * branch            master     -> FETCH_HEAD\n"
          ],
          "name": "stdout"
        },
        {
          "output_type": "execute_result",
          "data": {
            "text/plain": [
              ""
            ]
          },
          "metadata": {
            "tags": []
          },
          "execution_count": 3
        }
      ]
    },
    {
      "cell_type": "code",
      "metadata": {
        "id": "REYx7mdE-M_o",
        "colab_type": "code",
        "colab": {}
      },
      "source": [
        ""
      ],
      "execution_count": 0,
      "outputs": []
    },
    {
      "cell_type": "code",
      "metadata": {
        "id": "5R6rIDef-2-0",
        "colab_type": "code",
        "colab": {}
      },
      "source": [
        ""
      ],
      "execution_count": 0,
      "outputs": []
    }
  ]
}